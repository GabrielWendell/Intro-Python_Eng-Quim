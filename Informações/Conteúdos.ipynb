{
 "cells": [
  {
   "cell_type": "markdown",
   "id": "ff8e6bad",
   "metadata": {},
   "source": [
    "# Introdução ao Python para Engenharia Química"
   ]
  },
  {
   "cell_type": "markdown",
   "id": "02a92e44",
   "metadata": {},
   "source": [
    "- Gabriel Wendell Celestino Rocha"
   ]
  },
  {
   "cell_type": "markdown",
   "id": "549d3a66",
   "metadata": {},
   "source": [
    "Material de um minicurso de introdução ao Python para a engenharia Química oferecido na Semana da Engenharia Química ofertado pelo PET - Engenharia Química."
   ]
  },
  {
   "cell_type": "markdown",
   "id": "44589e94",
   "metadata": {},
   "source": [
    "O conteúdo é mantido no [GitHub](https://github.com/GabrielWendell/Intro-Python_Eng-Quim) e distribuídos sob uma [licença BSD3](https://opensource.org/licenses/BSD-3-Clause)."
   ]
  },
  {
   "cell_type": "markdown",
   "id": "7a85bd78",
   "metadata": {},
   "source": [
    "### Conteúdos"
   ]
  },
  {
   "cell_type": "markdown",
   "id": "953f3426",
   "metadata": {},
   "source": [
    "**Módulo 1** \n",
    "\n",
    "- [O que é o Python?](https://github.com/GabrielWendell/Intro-Python_Eng-Quim/blob/main/Notebooks/Python.ipynb)\n",
    "\n",
    "- [NumPy](https://github.com/GabrielWendell/Intro-Python_Eng-Quim/blob/main/Notebooks/NumPy.ipynb)\n",
    "\n",
    "- [Matplotlib](https://github.com/GabrielWendell/Intro-Python_Eng-Quim/blob/main/Notebooks/Matplotlib.ipynb)"
   ]
  },
  {
   "cell_type": "markdown",
   "id": "26eda52d",
   "metadata": {},
   "source": [
    "**Módulo 2**\n",
    "\n",
    "- [Pandas](https://github.com/GabrielWendell/Intro-Python_Eng-Quim/blob/main/Notebooks/Matplotlib.ipynb)\n",
    "\n",
    "- [Scipy](https://github.com/GabrielWendell/Intro-Python_Eng-Quim/blob/main/Notebooks/Scipy.ipynb)\n",
    "\n",
    "- [SciKit-learn](https://github.com/GabrielWendell/Intro-Python_Eng-Quim/blob/main/Notebooks/Scikit-learn.ipynb)"
   ]
  },
  {
   "cell_type": "markdown",
   "id": "649daa7d",
   "metadata": {},
   "source": [
    "---"
   ]
  }
 ],
 "metadata": {
  "kernelspec": {
   "display_name": "Python 3 (ipykernel)",
   "language": "python",
   "name": "python3"
  },
  "language_info": {
   "codemirror_mode": {
    "name": "ipython",
    "version": 3
   },
   "file_extension": ".py",
   "mimetype": "text/x-python",
   "name": "python",
   "nbconvert_exporter": "python",
   "pygments_lexer": "ipython3",
   "version": "3.9.8"
  }
 },
 "nbformat": 4,
 "nbformat_minor": 5
}
