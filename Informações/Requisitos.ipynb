{
 "cells": [
  {
   "cell_type": "markdown",
   "id": "6dd138ca",
   "metadata": {},
   "source": [
    "# Introdução ao Python para Engenharia Química"
   ]
  },
  {
   "cell_type": "markdown",
   "id": "2803f310",
   "metadata": {},
   "source": [
    "- Gabriel Wendell Celestino Rocha"
   ]
  },
  {
   "cell_type": "markdown",
   "id": "66f96225",
   "metadata": {},
   "source": [
    "Material de um minicurso de introdução ao Python para a engenharia Química oferecido na Semana da Engenharia Química ofertado pelo PET - Engenharia Química."
   ]
  },
  {
   "cell_type": "markdown",
   "id": "0da9af34",
   "metadata": {},
   "source": [
    "O conteúdo é mantido no [GitHub](https://github.com/GabrielWendell/Intro_ML) e distribuídos sob uma [licença BSD3](https://opensource.org/licenses/BSD-3-Clause)."
   ]
  },
  {
   "cell_type": "markdown",
   "id": "a81bcc5c",
   "metadata": {},
   "source": [
    "- [Veja a tabela de conteúdos](https://github.com/GabrielWendell/Intro_ML/blob/main/Infomações/Conteúdos.ipynb)"
   ]
  },
  {
   "cell_type": "markdown",
   "id": "812ae332",
   "metadata": {},
   "source": [
    "---"
   ]
  },
  {
   "cell_type": "markdown",
   "id": "d67fe2f9",
   "metadata": {},
   "source": [
    "## Pré-requisitos"
   ]
  },
  {
   "cell_type": "markdown",
   "id": "9def4e46",
   "metadata": {},
   "source": [
    "- Crie uma conta no [GitHub](https://github.com) se você ainda não tiver uma.\n",
    "\n",
    "- [Baixe](https://git-scm.com/downloads) e instale as ferramentas de linha de comando git em seu computador, se necessário.\n",
    "\n",
    "- [Baixe](https://www.anaconda.com/products/distribution) e instale a versão atual do python 3.x da [distribuição anaconda](https://www.anaconda.com/products/distribution) em seu computador, se necessário.\n",
    "\n",
    "> As notas recuadas assim fornecem detalhes adicionais sobre tópicos mais avançados.\n",
    "\n",
    "> Se você já possui uma versão mais antiga do anaconda instalada que deseja manter, as instruções abaixo criam um novo ambiente que não deve atrapalhar seu trabalho anterior e você provavelmente pode continuar com as instruções abaixo após a execução:\n",
    "\n",
    "> `$ conda update conda`"
   ]
  },
  {
   "cell_type": "markdown",
   "id": "229c7799",
   "metadata": {},
   "source": [
    "Este curso pressupõe uma familiaridade básica com a linguagem python principal. Se você está enferrujado ou ainda aprendendo, recomendo o ebook gratuito [A Whirlwind Tour of Python](https://nbviewer.org/github/jakevdp/WhirlwindTourOfPython/blob/master/Index.ipynb), que é \"*uma introdução rápida aos componentes essenciais da linguagem Python para pesquisadores e desenvolvedores que já estão familiarizados com programação em outra linguagem*\".\n",
    "\n",
    "> Se você estiver usando o python 2.xe relutante em mudar para o Python 3, leia [isto](https://wiki.python.org/moin/Python2orPython3) e [isto](https://python3statement.org)."
   ]
  },
  {
   "cell_type": "markdown",
   "id": "59d8a576",
   "metadata": {},
   "source": [
    "Nenhuma experiência anterior com git ou GitHub é necessária para este curso (mas eles são ferramentas de pesquisa úteis, então vale a pena aprender - [aqui](https://docs.github.com/pt/get-started/using-git/about-git) está um bom ponto de partida). Se você está achando que a curva de aprendizado do git é íngreme, você [não está sozinho](https://explainxkcd.com/wiki/index.php/1597:_Git)."
   ]
  },
  {
   "cell_type": "markdown",
   "id": "9dec3a95",
   "metadata": {},
   "source": [
    "---"
   ]
  }
 ],
 "metadata": {
  "kernelspec": {
   "display_name": "Python 3 (ipykernel)",
   "language": "python",
   "name": "python3"
  },
  "language_info": {
   "codemirror_mode": {
    "name": "ipython",
    "version": 3
   },
   "file_extension": ".py",
   "mimetype": "text/x-python",
   "name": "python",
   "nbconvert_exporter": "python",
   "pygments_lexer": "ipython3",
   "version": "3.9.8"
  }
 },
 "nbformat": 4,
 "nbformat_minor": 5
}
