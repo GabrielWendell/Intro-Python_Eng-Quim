{
 "cells": [
  {
   "cell_type": "markdown",
   "id": "fdee123e",
   "metadata": {
    "slideshow": {
     "slide_type": "slide"
    }
   },
   "source": [
    "# Introdução ao Python"
   ]
  },
  {
   "cell_type": "markdown",
   "id": "a1f2e2de",
   "metadata": {
    "slideshow": {
     "slide_type": "-"
    }
   },
   "source": [
    "- Gabriel Wendell Celestino Rocha.\n",
    "- 29 de Novembro de 2022."
   ]
  },
  {
   "cell_type": "markdown",
   "id": "22723628",
   "metadata": {
    "slideshow": {
     "slide_type": "-"
    }
   },
   "source": [
    "---"
   ]
  },
  {
   "cell_type": "markdown",
   "id": "fadc852a",
   "metadata": {
    "slideshow": {
     "slide_type": "slide"
    }
   },
   "source": [
    "## 0. Preliminares"
   ]
  },
  {
   "cell_type": "markdown",
   "id": "c83dfb97",
   "metadata": {
    "slideshow": {
     "slide_type": "-"
    }
   },
   "source": [
    "### 0.1 O que é o Python?"
   ]
  },
  {
   "cell_type": "markdown",
   "id": "3fa8580b",
   "metadata": {},
   "source": [
    "Python é uma linguagem de programação popular. Foi criado por Guido van Rossum e lançado em 1991. Suas aplicações incluem:\n",
    "\n",
    "- desenvolvimento web (lado do servidor);\n",
    "- desenvolvimento de software;\n",
    "- script do sistema;\n",
    "- matemática."
   ]
  },
  {
   "cell_type": "markdown",
   "id": "f5466232",
   "metadata": {
    "slideshow": {
     "slide_type": "subslide"
    }
   },
   "source": [
    "### 0.2 O que o Python é capaz de fazer?"
   ]
  },
  {
   "cell_type": "markdown",
   "id": "ec84dd9d",
   "metadata": {
    "slideshow": {
     "slide_type": "-"
    }
   },
   "source": [
    "- Big Data e matemática complexa;\n",
    "- Criação de fluxos de trabalho junto com o software;\n",
    "- Pode ser usado em um servidor para criar aplicativos da web;\n",
    "- Prototipagem rápida ou para o desenvolvimento de software pronto para produção;\n",
    "- Conexão entre sistemas de banco de dados, além de leitura e modificação de arquivos."
   ]
  },
  {
   "cell_type": "markdown",
   "id": "d0cc20f7",
   "metadata": {
    "slideshow": {
     "slide_type": "subslide"
    }
   },
   "source": [
    "### 0.3 Por que usar o Python?"
   ]
  },
  {
   "cell_type": "markdown",
   "id": "ef30be12",
   "metadata": {
    "slideshow": {
     "slide_type": "-"
    }
   },
   "source": [
    "- Prototipagem pode ser muito rápida;\n",
    "- Sintaxe simples semelhante à língua inglesa;\n",
    "- Pode ser tratado de forma procedural, orientada a objetos ou funcional;\n",
    "- Funciona em diferentes plataformas (Windows, Mac, Linux, Raspberry Pi, etc);\n",
    "- Executado em um sistema interpretador, o que significa que o código pode ser executado assim que é escrito;\n",
    "- Permite aos desenvolvedores escrever programas com menos linhas do que algumas outras linguagens de programação;"
   ]
  },
  {
   "cell_type": "markdown",
   "id": "be3b87b2",
   "metadata": {
    "slideshow": {
     "slide_type": "-"
    }
   },
   "source": [
    "---"
   ]
  },
  {
   "cell_type": "markdown",
   "id": "90da9f6d",
   "metadata": {
    "slideshow": {
     "slide_type": "slide"
    }
   },
   "source": [
    "## 1. Começando do \"início\"..."
   ]
  },
  {
   "cell_type": "markdown",
   "id": "b0e38a8e",
   "metadata": {
    "slideshow": {
     "slide_type": "-"
    }
   },
   "source": [
    "### 1.1 Operações básicas"
   ]
  },
  {
   "cell_type": "markdown",
   "id": "ba2cef6c",
   "metadata": {
    "slideshow": {
     "slide_type": "-"
    }
   },
   "source": [
    "- Divisão:"
   ]
  },
  {
   "cell_type": "code",
   "execution_count": 1,
   "id": "94a091ef",
   "metadata": {
    "slideshow": {
     "slide_type": "-"
    }
   },
   "outputs": [
    {
     "name": "stdout",
     "output_type": "stream",
     "text": [
      "c = a/b = 0.5\n"
     ]
    }
   ],
   "source": [
    "a = 1\n",
    "b = 2\n",
    "\n",
    "c = a/b\n",
    "print('c = a/b =', c)"
   ]
  },
  {
   "cell_type": "markdown",
   "id": "bc4e6450",
   "metadata": {
    "slideshow": {
     "slide_type": "subslide"
    }
   },
   "source": [
    "- Resto e parte inteira da divisão:"
   ]
  },
  {
   "cell_type": "code",
   "execution_count": 2,
   "id": "b63a7e5e",
   "metadata": {
    "slideshow": {
     "slide_type": "-"
    }
   },
   "outputs": [
    {
     "name": "stdout",
     "output_type": "stream",
     "text": [
      "a%b = 1\n",
      "a//b = 0\n"
     ]
    }
   ],
   "source": [
    "c1 = a%b\n",
    "c2 = a//b\n",
    "\n",
    "print('a%b =', c1)\n",
    "print('a//b =', c2)"
   ]
  },
  {
   "cell_type": "markdown",
   "id": "e78dcb60",
   "metadata": {
    "slideshow": {
     "slide_type": "subslide"
    }
   },
   "source": [
    "- Conversão para `strings`:"
   ]
  },
  {
   "cell_type": "code",
   "execution_count": 3,
   "id": "ae0a387c",
   "metadata": {
    "slideshow": {
     "slide_type": "-"
    }
   },
   "outputs": [
    {
     "data": {
      "text/plain": [
       "'0.5'"
      ]
     },
     "execution_count": 3,
     "metadata": {},
     "output_type": "execute_result"
    }
   ],
   "source": [
    "d = str(c)\n",
    "d"
   ]
  },
  {
   "cell_type": "markdown",
   "id": "631d9295",
   "metadata": {
    "slideshow": {
     "slide_type": "subslide"
    }
   },
   "source": [
    "- Separando elementos de `strings`:"
   ]
  },
  {
   "cell_type": "code",
   "execution_count": 4,
   "id": "e59bc08e",
   "metadata": {
    "slideshow": {
     "slide_type": "-"
    }
   },
   "outputs": [
    {
     "name": "stdout",
     "output_type": "stream",
     "text": [
      "d[0] = 0\n",
      "d[1] = .\n",
      "d[2] = 5\n",
      "\n",
      "d[0:] = 0.5\n",
      "d[1:] = .5\n",
      "d[2:] = 5\n",
      "\n",
      "d[:0] = \n",
      "d[:1] = 0\n",
      "d[:2] = 0.\n"
     ]
    }
   ],
   "source": [
    "print('d[0] =', d[0])\n",
    "print('d[1] =', d[1])\n",
    "print('d[2] =', d[2])\n",
    "print('')\n",
    "\n",
    "print('d[0:] =', d[0:])\n",
    "print('d[1:] =', d[1:])\n",
    "print('d[2:] =', d[2:])\n",
    "print('')\n",
    "\n",
    "print('d[:0] =', d[:0])\n",
    "print('d[:1] =', d[:1])\n",
    "print('d[:2] =', d[:2])"
   ]
  },
  {
   "cell_type": "markdown",
   "id": "6f150348",
   "metadata": {
    "slideshow": {
     "slide_type": "subslide"
    }
   },
   "source": [
    "- Conversão para `int`:"
   ]
  },
  {
   "cell_type": "code",
   "execution_count": 5,
   "id": "c11271cb",
   "metadata": {
    "slideshow": {
     "slide_type": "-"
    }
   },
   "outputs": [
    {
     "name": "stdout",
     "output_type": "stream",
     "text": [
      "int(c) = 0\n"
     ]
    }
   ],
   "source": [
    "e = int(c)\n",
    "print('int(c) =', e)"
   ]
  },
  {
   "cell_type": "markdown",
   "id": "1b581dff",
   "metadata": {
    "slideshow": {
     "slide_type": "subslide"
    }
   },
   "source": [
    "- Tipos de variáveis:"
   ]
  },
  {
   "cell_type": "code",
   "execution_count": 6,
   "id": "fb578951",
   "metadata": {
    "slideshow": {
     "slide_type": "-"
    }
   },
   "outputs": [
    {
     "name": "stdout",
     "output_type": "stream",
     "text": [
      "<class 'float'>\n",
      "<class 'str'>\n",
      "<class 'int'>\n"
     ]
    }
   ],
   "source": [
    "print(type(c))\n",
    "print(type(d))\n",
    "print(type(e))"
   ]
  },
  {
   "cell_type": "markdown",
   "id": "17de57f1",
   "metadata": {
    "slideshow": {
     "slide_type": "subslide"
    }
   },
   "source": [
    "- Números complexos:"
   ]
  },
  {
   "cell_type": "code",
   "execution_count": 7,
   "id": "c911ccd0",
   "metadata": {
    "slideshow": {
     "slide_type": "-"
    }
   },
   "outputs": [
    {
     "name": "stdout",
     "output_type": "stream",
     "text": [
      "f = 1.0\n",
      "g = (6.123233995736766e-17+1j)\n",
      "\n",
      "<class 'complex'>\n",
      "\n",
      "Re(g) = 6.123233995736766e-17\n",
      "Im(g) = 1.0\n"
     ]
    }
   ],
   "source": [
    "f = 1**(1/2)\n",
    "g = (-1)**(1/2)\n",
    "\n",
    "print('f =', f)\n",
    "print('g =', g)\n",
    "\n",
    "print('')\n",
    "print(type(g))\n",
    "\n",
    "print('\\nRe(g) =', g.real)\n",
    "print('Im(g) =', g.imag)"
   ]
  },
  {
   "cell_type": "markdown",
   "id": "c7398e75",
   "metadata": {
    "slideshow": {
     "slide_type": "subslide"
    }
   },
   "source": [
    "### 1.2 Trabalhando com `strings`"
   ]
  },
  {
   "cell_type": "markdown",
   "id": "adad9727",
   "metadata": {
    "slideshow": {
     "slide_type": "-"
    }
   },
   "source": [
    "- `capitalize()`: Torna a primeira letra componente da `string` em maiúscula;\n",
    "- `upper()`: Torna todas as letras componentes da `string` em maiúsculas;\n",
    "- `split()`: Separa cada elemento da `string` e a transforma em uma `list`."
   ]
  },
  {
   "cell_type": "code",
   "execution_count": 8,
   "id": "c5cb6e78",
   "metadata": {
    "slideshow": {
     "slide_type": "-"
    }
   },
   "outputs": [
    {
     "name": "stdout",
     "output_type": "stream",
     "text": [
      "Texto qualquer, separador\n",
      "TEXTO QUALQUER, SEPARADOR\n",
      "['texto', 'qualquer,', 'separador']\n"
     ]
    }
   ],
   "source": [
    "h = 'texto qualquer, separador'\n",
    "print(h.capitalize())\n",
    "print(h.upper())\n",
    "print(h.split())"
   ]
  },
  {
   "cell_type": "code",
   "execution_count": 9,
   "id": "8c580254",
   "metadata": {
    "slideshow": {
     "slide_type": "fragment"
    }
   },
   "outputs": [
    {
     "name": "stdout",
     "output_type": "stream",
     "text": [
      "['texto ', 'ual', 'uer, separador']\n",
      "['texto qualquer', ' separador']\n",
      "['texto', 'qualquer,', 'separador']\n"
     ]
    }
   ],
   "source": [
    "print(h.split(sep = 'q'))\n",
    "print(h.split(sep = ','))\n",
    "print(h.split())"
   ]
  },
  {
   "cell_type": "code",
   "execution_count": 10,
   "id": "1fbe17c8",
   "metadata": {
    "slideshow": {
     "slide_type": "subslide"
    }
   },
   "outputs": [
    {
     "name": "stdout",
     "output_type": "stream",
     "text": [
      "['t', 'e', 'x', 't', 'o', ' ', 'q', 'u', 'a', 'l', 'q', 'u', 'e', 'r', ',', ' ', 's', 'e', 'p', 'a', 'r', 'a', 'd', 'o', 'r']\n"
     ]
    }
   ],
   "source": [
    "print(list(h))"
   ]
  },
  {
   "cell_type": "code",
   "execution_count": 11,
   "id": "7145e0f1",
   "metadata": {
    "slideshow": {
     "slide_type": "fragment"
    }
   },
   "outputs": [
    {
     "name": "stdout",
     "output_type": "stream",
     "text": [
      "['x', 't', 'o']\n",
      "['t', 'e', 'x', 't', 'o']\n"
     ]
    }
   ],
   "source": [
    "i = list(h)\n",
    "print(i[2:5])\n",
    "print(i[0:5])"
   ]
  },
  {
   "cell_type": "code",
   "execution_count": 12,
   "id": "076036f1",
   "metadata": {
    "slideshow": {
     "slide_type": "fragment"
    }
   },
   "outputs": [
    {
     "name": "stdout",
     "output_type": "stream",
     "text": [
      "xto\n",
      "to\n"
     ]
    }
   ],
   "source": [
    "print(h[2:5])\n",
    "print(h[3:5])"
   ]
  },
  {
   "cell_type": "code",
   "execution_count": 13,
   "id": "b86b7b8d",
   "metadata": {
    "slideshow": {
     "slide_type": "subslide"
    }
   },
   "outputs": [
    {
     "name": "stdout",
     "output_type": "stream",
     "text": [
      "texto\n",
      "qualquer,\n",
      "separador\n"
     ]
    }
   ],
   "source": [
    "j = h.split()\n",
    "print(j[0])\n",
    "print(j[1])\n",
    "print(j[2])"
   ]
  },
  {
   "cell_type": "code",
   "execution_count": 14,
   "id": "08c452f8",
   "metadata": {
    "slideshow": {
     "slide_type": "fragment"
    }
   },
   "outputs": [
    {
     "name": "stdout",
     "output_type": "stream",
     "text": [
      "['texto', 'qualquer,', 'separador']\n"
     ]
    },
    {
     "data": {
      "text/plain": [
       "1"
      ]
     },
     "execution_count": 14,
     "metadata": {},
     "output_type": "execute_result"
    }
   ],
   "source": [
    "print(j)\n",
    "\n",
    "index = j.index('qualquer,')\n",
    "index"
   ]
  },
  {
   "cell_type": "code",
   "execution_count": 15,
   "id": "d1cd4e15",
   "metadata": {
    "slideshow": {
     "slide_type": "subslide"
    }
   },
   "outputs": [
    {
     "name": "stdout",
     "output_type": "stream",
     "text": [
      "[1, 2, 3]\n",
      "[3, 5, 8]\n",
      "<class 'list'>\n"
     ]
    }
   ],
   "source": [
    "k = [1,2,3]\n",
    "l = [3,5,8]\n",
    "\n",
    "print(k)\n",
    "print(l)\n",
    "print(type(k))"
   ]
  },
  {
   "cell_type": "code",
   "execution_count": 16,
   "id": "42f5efbc",
   "metadata": {
    "slideshow": {
     "slide_type": "fragment"
    }
   },
   "outputs": [
    {
     "name": "stdout",
     "output_type": "stream",
     "text": [
      "[1, 2, 3, 3, 5, 8]\n",
      "[3, 5, 8, 3, 5, 8]\n"
     ]
    }
   ],
   "source": [
    "m = k+l\n",
    "n = l*2\n",
    "\n",
    "print(m)\n",
    "print(n)"
   ]
  },
  {
   "cell_type": "code",
   "execution_count": 17,
   "id": "000f3496",
   "metadata": {
    "slideshow": {
     "slide_type": "fragment"
    }
   },
   "outputs": [
    {
     "ename": "TypeError",
     "evalue": "can't multiply sequence by non-int of type 'list'",
     "output_type": "error",
     "traceback": [
      "\u001b[1;31m---------------------------------------------------------------------------\u001b[0m",
      "\u001b[1;31mTypeError\u001b[0m                                 Traceback (most recent call last)",
      "Input \u001b[1;32mIn [17]\u001b[0m, in \u001b[0;36m<module>\u001b[1;34m\u001b[0m\n\u001b[1;32m----> 1\u001b[0m o \u001b[38;5;241m=\u001b[39m \u001b[43mk\u001b[49m\u001b[38;5;241;43m*\u001b[39;49m\u001b[43ml\u001b[49m\n",
      "\u001b[1;31mTypeError\u001b[0m: can't multiply sequence by non-int of type 'list'"
     ]
    }
   ],
   "source": [
    "o = k*l"
   ]
  },
  {
   "cell_type": "markdown",
   "id": "c9c37162",
   "metadata": {
    "slideshow": {
     "slide_type": "-"
    }
   },
   "source": [
    "---"
   ]
  },
  {
   "cell_type": "markdown",
   "id": "70ec1821",
   "metadata": {
    "slideshow": {
     "slide_type": "slide"
    }
   },
   "source": [
    "## 2. Funções básicas nativas do Python"
   ]
  },
  {
   "cell_type": "markdown",
   "id": "1a8ca69f",
   "metadata": {
    "slideshow": {
     "slide_type": "fragment"
    }
   },
   "source": [
    "- Funções:"
   ]
  },
  {
   "cell_type": "code",
   "execution_count": 18,
   "id": "4e671886",
   "metadata": {
    "slideshow": {
     "slide_type": "-"
    }
   },
   "outputs": [
    {
     "name": "stdout",
     "output_type": "stream",
     "text": [
      "Hello\n"
     ]
    }
   ],
   "source": [
    "def function():\n",
    "    print('Hello')\n",
    "    \n",
    "function()"
   ]
  },
  {
   "cell_type": "code",
   "execution_count": 19,
   "id": "692e4629",
   "metadata": {
    "slideshow": {
     "slide_type": "subslide"
    }
   },
   "outputs": [
    {
     "name": "stdout",
     "output_type": "stream",
     "text": [
      "R = 9.0\n"
     ]
    }
   ],
   "source": [
    "def sqrt(x):\n",
    "    value = x**(1/2)\n",
    "    \n",
    "    # return x**(1/2)\n",
    "    return value\n",
    "\n",
    "R = sqrt(81)\n",
    "print('R =', R)"
   ]
  },
  {
   "cell_type": "code",
   "execution_count": 20,
   "id": "0f0ac1f2",
   "metadata": {
    "slideshow": {
     "slide_type": "fragment"
    }
   },
   "outputs": [
    {
     "name": "stdout",
     "output_type": "stream",
     "text": [
      "more(2,3) = 4\n",
      "more(2,3,4) = 2\n"
     ]
    }
   ],
   "source": [
    "def more(a, b, c = 2):\n",
    "    value = a*b - c\n",
    "    \n",
    "    return value\n",
    "\n",
    "result1 = more(2,3)\n",
    "print('more(2,3) =', result1)\n",
    "\n",
    "result2 = more(2,3,4)\n",
    "print('more(2,3,4) =', result2)"
   ]
  },
  {
   "cell_type": "markdown",
   "id": "05928125",
   "metadata": {
    "slideshow": {
     "slide_type": "subslide"
    }
   },
   "source": [
    "- `for` loops:"
   ]
  },
  {
   "cell_type": "code",
   "execution_count": 21,
   "id": "2ed3e0dc",
   "metadata": {
    "slideshow": {
     "slide_type": "-"
    }
   },
   "outputs": [
    {
     "name": "stdout",
     "output_type": "stream",
     "text": [
      "Índice = 0\n",
      "Resultado = 0.0\n",
      "\n",
      "Índice = 1\n",
      "Resultado = 1.0\n",
      "\n",
      "Índice = 2\n",
      "Resultado = 1.4142135623730951\n",
      "\n",
      "Índice = 3\n",
      "Resultado = 1.7320508075688772\n",
      "\n",
      "Índice = 4\n",
      "Resultado = 2.0\n",
      "\n"
     ]
    }
   ],
   "source": [
    "for i in range(0,5):\n",
    "    print('Índice =', i)\n",
    "    c = i**(1/2)\n",
    "    print('Resultado =', c)\n",
    "    print('')"
   ]
  },
  {
   "cell_type": "code",
   "execution_count": 22,
   "id": "09d50484",
   "metadata": {
    "slideshow": {
     "slide_type": "fragment"
    }
   },
   "outputs": [
    {
     "name": "stdout",
     "output_type": "stream",
     "text": [
      "len(p) = 6\n"
     ]
    }
   ],
   "source": [
    "p = [1,3,5,8,10,15]\n",
    "print('len(p) =', len(p))"
   ]
  },
  {
   "cell_type": "code",
   "execution_count": 23,
   "id": "243db4fb",
   "metadata": {
    "slideshow": {
     "slide_type": "subslide"
    }
   },
   "outputs": [
    {
     "name": "stdout",
     "output_type": "stream",
     "text": [
      "Índice = 0\n",
      "Resultado = 1.0\n",
      "\n",
      "Índice = 1\n",
      "Resultado = 1.7320508075688772\n",
      "\n",
      "Índice = 2\n",
      "Resultado = 2.23606797749979\n",
      "\n",
      "Índice = 3\n",
      "Resultado = 2.8284271247461903\n",
      "\n",
      "Índice = 4\n",
      "Resultado = 3.1622776601683795\n",
      "\n"
     ]
    }
   ],
   "source": [
    "for i in range(0,5):\n",
    "    print('Índice =', i)\n",
    "    c = p[i]**(1/2)\n",
    "    print('Resultado =', c)\n",
    "    print('')"
   ]
  },
  {
   "cell_type": "code",
   "execution_count": 24,
   "id": "0264bd06",
   "metadata": {
    "slideshow": {
     "slide_type": "subslide"
    }
   },
   "outputs": [
    {
     "name": "stdout",
     "output_type": "stream",
     "text": [
      "q = [0, 1, 2, 3, 4]\n",
      "\n",
      "\n",
      "i = 0\n",
      "\n",
      "i = 1\n",
      "\n",
      "i = 2\n",
      "\n",
      "i = 3\n",
      "\n",
      "i = 4\n"
     ]
    }
   ],
   "source": [
    "q = [i for i in range(5)]\n",
    "print('q =', q)\n",
    "print('')\n",
    "\n",
    "for i in range(5):\n",
    "    print('\\ni =', i)"
   ]
  },
  {
   "cell_type": "markdown",
   "id": "0306fff3",
   "metadata": {
    "slideshow": {
     "slide_type": "subslide"
    }
   },
   "source": [
    "- Condicionais `if` e `else`:"
   ]
  },
  {
   "cell_type": "code",
   "execution_count": 25,
   "id": "6bc37370",
   "metadata": {
    "slideshow": {
     "slide_type": "-"
    }
   },
   "outputs": [
    {
     "name": "stdout",
     "output_type": "stream",
     "text": [
      "Not ok!\n"
     ]
    }
   ],
   "source": [
    "r = 5\n",
    "\n",
    "if r < 1:\n",
    "    print('Ok!')\n",
    "else:\n",
    "    print('Not ok!')"
   ]
  },
  {
   "cell_type": "markdown",
   "id": "2c3ce8e6",
   "metadata": {
    "slideshow": {
     "slide_type": "subslide"
    }
   },
   "source": [
    "- Combinando `if` e `for`:"
   ]
  },
  {
   "cell_type": "code",
   "execution_count": 26,
   "id": "7abe19cf",
   "metadata": {
    "slideshow": {
     "slide_type": "-"
    }
   },
   "outputs": [
    {
     "name": "stdout",
     "output_type": "stream",
     "text": [
      "Does not work...\n",
      "Does not work...\n",
      "Does not work...\n",
      "Does not work...\n",
      "Does not work...\n",
      "Does not work...\n",
      "i = 6\n",
      "i = 7\n",
      "i = 8\n",
      "i = 9\n",
      "i = 10\n",
      "i = 11\n",
      "i = 12\n",
      "i = 13\n",
      "i = 14\n",
      "Does not work...\n",
      "i = 16\n",
      "i = 17\n",
      "i = 18\n",
      "i = 19\n",
      "i = 20\n",
      "i = 21\n",
      "i = 22\n",
      "i = 23\n",
      "i = 24\n",
      "i = 25\n",
      "i = 26\n",
      "i = 27\n",
      "i = 28\n",
      "i = 29\n"
     ]
    }
   ],
   "source": [
    "for i in (s for s in range(30)):\n",
    "    if i > 5 and i != 15:\n",
    "        print('i =', i)\n",
    "    else:\n",
    "        print('Does not work...')"
   ]
  },
  {
   "cell_type": "markdown",
   "id": "7d89991b",
   "metadata": {
    "slideshow": {
     "slide_type": "subslide"
    }
   },
   "source": [
    "- Funções `lambda`:"
   ]
  },
  {
   "cell_type": "code",
   "execution_count": 27,
   "id": "2b4fa6e3",
   "metadata": {
    "slideshow": {
     "slide_type": "-"
    }
   },
   "outputs": [
    {
     "name": "stdout",
     "output_type": "stream",
     "text": [
      "sqrt(x = 2) 1.4142135623730951\n"
     ]
    }
   ],
   "source": [
    "sqrt = lambda x: x**(1 / 2)\n",
    "print('sqrt(x = 2)', sqrt(2))"
   ]
  },
  {
   "cell_type": "markdown",
   "id": "2f27d66b",
   "metadata": {
    "slideshow": {
     "slide_type": "-"
    }
   },
   "source": [
    "---"
   ]
  }
 ],
 "metadata": {
  "celltoolbar": "Slideshow",
  "kernelspec": {
   "display_name": "Python 3 (ipykernel)",
   "language": "python",
   "name": "python3"
  },
  "language_info": {
   "codemirror_mode": {
    "name": "ipython",
    "version": 3
   },
   "file_extension": ".py",
   "mimetype": "text/x-python",
   "name": "python",
   "nbconvert_exporter": "python",
   "pygments_lexer": "ipython3",
   "version": "3.9.8"
  }
 },
 "nbformat": 4,
 "nbformat_minor": 5
}
