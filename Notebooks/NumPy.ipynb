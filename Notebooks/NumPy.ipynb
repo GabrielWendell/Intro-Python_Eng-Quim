{
 "cells": [
  {
   "cell_type": "markdown",
   "id": "7248ddde",
   "metadata": {
    "slideshow": {
     "slide_type": "slide"
    }
   },
   "source": [
    "# Um breve resumo do NumPy"
   ]
  },
  {
   "cell_type": "markdown",
   "id": "c09cfba6",
   "metadata": {
    "slideshow": {
     "slide_type": "-"
    }
   },
   "source": [
    "- Gabriel Wendell Celestino Rocha.\n",
    "- 29 de Novembro de 2022."
   ]
  },
  {
   "cell_type": "markdown",
   "id": "3323d7cc",
   "metadata": {
    "slideshow": {
     "slide_type": "-"
    }
   },
   "source": [
    "---"
   ]
  },
  {
   "cell_type": "markdown",
   "id": "48f5c37b",
   "metadata": {
    "slideshow": {
     "slide_type": "slide"
    }
   },
   "source": [
    "## 0. Preliminares"
   ]
  },
  {
   "cell_type": "markdown",
   "id": "24a8bf27",
   "metadata": {
    "slideshow": {
     "slide_type": "-"
    }
   },
   "source": [
    "### 0.1 O que é o `NumPy` "
   ]
  },
  {
   "cell_type": "markdown",
   "id": "d1cf6ffb",
   "metadata": {
    "slideshow": {
     "slide_type": "-"
    }
   },
   "source": [
    "- `NumPy`: *Numerical Python*.\n",
    "\n",
    "- `NumPy` é uma biblioteca Python usada para trabalhar com arrays.\n",
    "\n",
    "- Possui funções para trabalhar no domínio da álgebra linear, transformada de Fourier e matrizes.\n",
    "\n",
    "- Criado em 2005 por Travis Oliphant. É um projeto de código aberto e você pode usá-lo livremente.\n",
    "\n",
    "- O `NumPy` é escrita parcialmente em Python, mas a maioria das partes que requerem computação rápida são escritas em C ou C++."
   ]
  },
  {
   "cell_type": "markdown",
   "id": "bbed34be",
   "metadata": {
    "slideshow": {
     "slide_type": "subslide"
    }
   },
   "source": [
    "### 0.2 Por que usar o `NumPy`?"
   ]
  },
  {
   "cell_type": "markdown",
   "id": "e45f3dd1",
   "metadata": {
    "slideshow": {
     "slide_type": "-"
    }
   },
   "source": [
    "- Em Python, temos listas que servem ao propósito de arrays, mas são lentas para processar.\n",
    "\n",
    "- O `NumPy` visa fornecer um objeto de matriz até 50 vezes mais rápido que as listas tradicionais do Python.\n",
    "\n",
    "- O objeto array no `NumPy` é chamado `ndarray`, ele fornece muitas funções de suporte que facilitam muito o trabalho com o `ndarray`.\n",
    "\n",
    "- Arrays são muito usados em ciência de dados, onde velocidade e recursos são muito importantes."
   ]
  },
  {
   "cell_type": "markdown",
   "id": "d1899d44",
   "metadata": {
    "slideshow": {
     "slide_type": "subslide"
    }
   },
   "source": [
    "### 0.3 Por que o `NumPy` é mais rápido que as listas?"
   ]
  },
  {
   "cell_type": "markdown",
   "id": "eefb80ad",
   "metadata": {
    "slideshow": {
     "slide_type": "-"
    }
   },
   "source": [
    "- As matrizes `NumPy` são armazenadas em um local contínuo na memória, ao contrário das listas, para que os processos possam acessá-las e manipulá-las com muita eficiência.\n",
    "\n",
    "- Esse comportamento é chamado de *localidade de referência* em ciência da computação.\n",
    "\n",
    "- Esta é a principal razão pela qual o `NumPy` é mais rápido que as listas. Também é otimizado para trabalhar com as arquiteturas de CPU mais recentes."
   ]
  },
  {
   "cell_type": "markdown",
   "id": "032a4d40",
   "metadata": {
    "slideshow": {
     "slide_type": "-"
    }
   },
   "source": [
    "---"
   ]
  },
  {
   "cell_type": "markdown",
   "id": "47bc9fe1",
   "metadata": {
    "slideshow": {
     "slide_type": "slide"
    }
   },
   "source": [
    "## 1. Instalação"
   ]
  },
  {
   "cell_type": "markdown",
   "id": "d3d216d8",
   "metadata": {
    "slideshow": {
     "slide_type": "-"
    }
   },
   "source": [
    "- **CONDA**"
   ]
  },
  {
   "cell_type": "markdown",
   "id": "1f5e8e76",
   "metadata": {
    "slideshow": {
     "slide_type": "-"
    }
   },
   "source": [
    "Se você usar o `conda`, poderá instalar o `NumPy` a partir dos canais `default` ou do `conda-forge`:"
   ]
  },
  {
   "cell_type": "markdown",
   "id": "00bdf906",
   "metadata": {
    "slideshow": {
     "slide_type": "-"
    }
   },
   "source": [
    "> `default`:\n",
    "\n",
    "```Python\n",
    "$ conda create -n my-env\n",
    "$ conda activate my-env\n",
    "```\n",
    "> `conda-forge`:\n",
    "\n",
    "``` Python\n",
    "$ conda config --env --add channels conda-forge\n",
    "$ conda install numpy\n",
    "```"
   ]
  },
  {
   "cell_type": "markdown",
   "id": "a80ea61e",
   "metadata": {
    "slideshow": {
     "slide_type": "subslide"
    }
   },
   "source": [
    "- **PIP**"
   ]
  },
  {
   "cell_type": "markdown",
   "id": "2c753d82",
   "metadata": {
    "slideshow": {
     "slide_type": "-"
    }
   },
   "source": [
    "Se você usar `pip`, poderá instalar o `NumPy` com:"
   ]
  },
  {
   "cell_type": "markdown",
   "id": "aad265fa",
   "metadata": {
    "slideshow": {
     "slide_type": "-"
    }
   },
   "source": [
    "``` Python\n",
    "$ pip install numpy\n",
    "```"
   ]
  },
  {
   "cell_type": "markdown",
   "id": "d0efbc7d",
   "metadata": {
    "slideshow": {
     "slide_type": "-"
    }
   },
   "source": [
    "Além disso, ao usar o `pip`, é uma boa prática usar um *virtual enviroment* - consulte as documentações das [Instalações Reproduzíveis](https://numpy.org/install/#reproducible-installs) para saber o motivo e este [guia](https://dev.to/bowmanjd/python-tools-for-managing-virtual-environments-3bko#howto) para obter detalhes sobre o uso de ambientes virtuais."
   ]
  },
  {
   "cell_type": "markdown",
   "id": "cc09714a",
   "metadata": {
    "slideshow": {
     "slide_type": "-"
    }
   },
   "source": [
    "---"
   ]
  },
  {
   "cell_type": "markdown",
   "id": "5929f3ff",
   "metadata": {
    "slideshow": {
     "slide_type": "slide"
    }
   },
   "source": [
    "## 2. Pondo o `NumPy` em prática"
   ]
  },
  {
   "cell_type": "markdown",
   "id": "1c1632b9",
   "metadata": {
    "slideshow": {
     "slide_type": "-"
    }
   },
   "source": [
    "Para todo tipo de dúvidas e informações adicionais, veja a documentação [aqui](https://numpy.org/doc/stable/), em especial o pequeno tutorial [aqui](https://numpy.org/doc/stable/user/quickstart.html). Começamos importando a biblioteca do `NumPy` e a string da versão é armazenada no atributo `__version__`:"
   ]
  },
  {
   "cell_type": "code",
   "execution_count": 1,
   "id": "4a365cdb",
   "metadata": {
    "slideshow": {
     "slide_type": "-"
    }
   },
   "outputs": [
    {
     "name": "stdout",
     "output_type": "stream",
     "text": [
      "Versão do NumPy = 1.21.6\n"
     ]
    }
   ],
   "source": [
    "import numpy as np\n",
    "\n",
    "print('Versão do NumPy =', np.__version__)"
   ]
  },
  {
   "cell_type": "markdown",
   "id": "c1f3c974",
   "metadata": {
    "slideshow": {
     "slide_type": "subslide"
    }
   },
   "source": [
    "### 2.1 Trabalhando com arrays"
   ]
  },
  {
   "cell_type": "markdown",
   "id": "0b943e8b",
   "metadata": {
    "slideshow": {
     "slide_type": "-"
    }
   },
   "source": [
    "#### 2.1.1 Construção de arrays"
   ]
  },
  {
   "cell_type": "markdown",
   "id": "8a0ba323",
   "metadata": {
    "slideshow": {
     "slide_type": "-"
    }
   },
   "source": [
    "- Arrays simples:"
   ]
  },
  {
   "cell_type": "code",
   "execution_count": 2,
   "id": "871b41c8",
   "metadata": {
    "slideshow": {
     "slide_type": "-"
    }
   },
   "outputs": [
    {
     "data": {
      "text/plain": [
       "array([3.14, 1.  , 2.  , 3.  ])"
      ]
     },
     "execution_count": 2,
     "metadata": {},
     "output_type": "execute_result"
    }
   ],
   "source": [
    "np.array([0, 1, 2, 3, 4])\n",
    "\n",
    "np.array([3.14, 1, 2, 3])"
   ]
  },
  {
   "cell_type": "markdown",
   "id": "51843868",
   "metadata": {
    "slideshow": {
     "slide_type": "subslide"
    }
   },
   "source": [
    "- Arrays espaçados:"
   ]
  },
  {
   "cell_type": "code",
   "execution_count": 3,
   "id": "6f64d348",
   "metadata": {
    "slideshow": {
     "slide_type": "-"
    }
   },
   "outputs": [
    {
     "data": {
      "text/plain": [
       "array([1, 3, 5, 7, 9])"
      ]
     },
     "execution_count": 3,
     "metadata": {},
     "output_type": "execute_result"
    }
   ],
   "source": [
    "np.array([0.5, 1.5], dtype = 'float32')\n",
    "\n",
    "np.arange(1, 10, 2)"
   ]
  },
  {
   "cell_type": "markdown",
   "id": "19469c80",
   "metadata": {
    "slideshow": {
     "slide_type": "subslide"
    }
   },
   "source": [
    "- Arrays linearmente espaçados:"
   ]
  },
  {
   "cell_type": "code",
   "execution_count": 4,
   "id": "4cff6c09",
   "metadata": {
    "slideshow": {
     "slide_type": "-"
    }
   },
   "outputs": [
    {
     "data": {
      "text/plain": [
       "array([  0.5,   1.5,   2.5,   3.5,   4.5,   5.5,   6.5,   7.5,   8.5,\n",
       "         9.5,  10.5,  11.5,  12.5,  13.5,  14.5,  15.5,  16.5,  17.5,\n",
       "        18.5,  19.5,  20.5,  21.5,  22.5,  23.5,  24.5,  25.5,  26.5,\n",
       "        27.5,  28.5,  29.5,  30.5,  31.5,  32.5,  33.5,  34.5,  35.5,\n",
       "        36.5,  37.5,  38.5,  39.5,  40.5,  41.5,  42.5,  43.5,  44.5,\n",
       "        45.5,  46.5,  47.5,  48.5,  49.5,  50.5,  51.5,  52.5,  53.5,\n",
       "        54.5,  55.5,  56.5,  57.5,  58.5,  59.5,  60.5,  61.5,  62.5,\n",
       "        63.5,  64.5,  65.5,  66.5,  67.5,  68.5,  69.5,  70.5,  71.5,\n",
       "        72.5,  73.5,  74.5,  75.5,  76.5,  77.5,  78.5,  79.5,  80.5,\n",
       "        81.5,  82.5,  83.5,  84.5,  85.5,  86.5,  87.5,  88.5,  89.5,\n",
       "        90.5,  91.5,  92.5,  93.5,  94.5,  95.5,  96.5,  97.5,  98.5,\n",
       "        99.5, 100.5])"
      ]
     },
     "execution_count": 4,
     "metadata": {},
     "output_type": "execute_result"
    }
   ],
   "source": [
    "np.linspace(0.5, 100.5, 101)"
   ]
  },
  {
   "cell_type": "markdown",
   "id": "02c2d096",
   "metadata": {
    "slideshow": {
     "slide_type": "subslide"
    }
   },
   "source": [
    "- Matriz Identidade:"
   ]
  },
  {
   "cell_type": "code",
   "execution_count": 5,
   "id": "57c2d2c1",
   "metadata": {
    "slideshow": {
     "slide_type": "-"
    }
   },
   "outputs": [
    {
     "data": {
      "text/plain": [
       "array([[1., 0., 0., 0.],\n",
       "       [0., 1., 0., 0.],\n",
       "       [0., 0., 1., 0.],\n",
       "       [0., 0., 0., 1.]])"
      ]
     },
     "execution_count": 5,
     "metadata": {},
     "output_type": "execute_result"
    }
   ],
   "source": [
    "np.eye(4)"
   ]
  },
  {
   "cell_type": "markdown",
   "id": "c5e3b47f",
   "metadata": {
    "slideshow": {
     "slide_type": "subslide"
    }
   },
   "source": [
    "- Array de valor único:"
   ]
  },
  {
   "cell_type": "code",
   "execution_count": 6,
   "id": "742abd6e",
   "metadata": {
    "slideshow": {
     "slide_type": "-"
    }
   },
   "outputs": [
    {
     "data": {
      "text/plain": [
       "array([3.14, 3.14, 3.14, 3.14, 3.14])"
      ]
     },
     "execution_count": 6,
     "metadata": {},
     "output_type": "execute_result"
    }
   ],
   "source": [
    "np.full(5, 3.14)"
   ]
  },
  {
   "cell_type": "markdown",
   "id": "58886d68",
   "metadata": {
    "slideshow": {
     "slide_type": "subslide"
    }
   },
   "source": [
    "- Array de valores unitários:"
   ]
  },
  {
   "cell_type": "code",
   "execution_count": 7,
   "id": "1704746b",
   "metadata": {
    "slideshow": {
     "slide_type": "-"
    }
   },
   "outputs": [
    {
     "data": {
      "text/plain": [
       "array([1., 1., 1., 1., 1.])"
      ]
     },
     "execution_count": 7,
     "metadata": {},
     "output_type": "execute_result"
    }
   ],
   "source": [
    "np.ones(5)"
   ]
  },
  {
   "cell_type": "markdown",
   "id": "a0a6fc46",
   "metadata": {
    "slideshow": {
     "slide_type": "subslide"
    }
   },
   "source": [
    "- Array de valores nulos:"
   ]
  },
  {
   "cell_type": "code",
   "execution_count": 8,
   "id": "956c901e",
   "metadata": {
    "slideshow": {
     "slide_type": "-"
    }
   },
   "outputs": [
    {
     "data": {
      "text/plain": [
       "array([0., 0., 0., 0., 0.])"
      ]
     },
     "execution_count": 8,
     "metadata": {},
     "output_type": "execute_result"
    }
   ],
   "source": [
    "np.zeros(5)\n",
    "\n",
    "np.empty(5)"
   ]
  },
  {
   "cell_type": "markdown",
   "id": "ef4c5b3a",
   "metadata": {
    "slideshow": {
     "slide_type": "subslide"
    }
   },
   "source": [
    "#### 2.1.2 Propriedades básicas"
   ]
  },
  {
   "cell_type": "markdown",
   "id": "84f5299e",
   "metadata": {
    "slideshow": {
     "slide_type": "-"
    }
   },
   "source": [
    "- Tipo de array:"
   ]
  },
  {
   "cell_type": "code",
   "execution_count": 9,
   "id": "a20a2aaf",
   "metadata": {
    "slideshow": {
     "slide_type": "-"
    }
   },
   "outputs": [
    {
     "data": {
      "text/plain": [
       "numpy.ndarray"
      ]
     },
     "execution_count": 9,
     "metadata": {},
     "output_type": "execute_result"
    }
   ],
   "source": [
    "a = np.arange(10)\n",
    "type(a)"
   ]
  },
  {
   "cell_type": "markdown",
   "id": "8de6c50c",
   "metadata": {
    "slideshow": {
     "slide_type": "subslide"
    }
   },
   "source": [
    "- Forma do array:"
   ]
  },
  {
   "cell_type": "code",
   "execution_count": 10,
   "id": "62b2222c",
   "metadata": {
    "slideshow": {
     "slide_type": "-"
    }
   },
   "outputs": [
    {
     "name": "stdout",
     "output_type": "stream",
     "text": [
      "Shape(a) = (10,)\n",
      "Shape(b) = (5, 5)\n"
     ]
    }
   ],
   "source": [
    "print('Shape(a) =', a.shape)\n",
    "\n",
    "b = np.eye(5)\n",
    "print('Shape(b) =', b.shape)"
   ]
  },
  {
   "cell_type": "markdown",
   "id": "e04175d6",
   "metadata": {
    "slideshow": {
     "slide_type": "subslide"
    }
   },
   "source": [
    "- Dimensão do array:"
   ]
  },
  {
   "cell_type": "code",
   "execution_count": 11,
   "id": "8e2f7cba",
   "metadata": {
    "slideshow": {
     "slide_type": "-"
    }
   },
   "outputs": [
    {
     "name": "stdout",
     "output_type": "stream",
     "text": [
      "Dim(a) = 1\n",
      "Dim(b) = 2\n"
     ]
    }
   ],
   "source": [
    "print('Dim(a) =', a.ndim)\n",
    "print('Dim(b) =', b.ndim)"
   ]
  },
  {
   "cell_type": "markdown",
   "id": "59a69ebc",
   "metadata": {
    "slideshow": {
     "slide_type": "subslide"
    }
   },
   "source": [
    "- Tamanho do array:"
   ]
  },
  {
   "cell_type": "code",
   "execution_count": 12,
   "id": "5aa55ed0",
   "metadata": {
    "slideshow": {
     "slide_type": "-"
    }
   },
   "outputs": [
    {
     "name": "stdout",
     "output_type": "stream",
     "text": [
      "Size(a) = 10\n",
      "Size(b) = 25\n"
     ]
    }
   ],
   "source": [
    "print('Size(a) =', a.size)\n",
    "print('Size(b) =', b.size)"
   ]
  },
  {
   "cell_type": "markdown",
   "id": "2c32a064",
   "metadata": {
    "slideshow": {
     "slide_type": "subslide"
    }
   },
   "source": [
    "- Definindo sub-arrays:"
   ]
  },
  {
   "cell_type": "code",
   "execution_count": 13,
   "id": "5869dc78",
   "metadata": {
    "slideshow": {
     "slide_type": "-"
    }
   },
   "outputs": [
    {
     "name": "stdout",
     "output_type": "stream",
     "text": [
      "a[2:5] = [2 3 4]\n",
      "a[1] = [ 0 11  2  3  4  5  6  7  8  9]\n",
      "a[2:5] = [ 0 11 -1 -2 -3  5  6  7  8  9]\n"
     ]
    }
   ],
   "source": [
    "print('a[2:5] =', a[2:5])\n",
    "\n",
    "a[1] = 11\n",
    "print('a[1] =', a)\n",
    "\n",
    "a[2:5] = [-1, -2, -3]\n",
    "print('a[2:5] =', a)"
   ]
  },
  {
   "cell_type": "code",
   "execution_count": 14,
   "id": "087b9f92",
   "metadata": {
    "slideshow": {
     "slide_type": "subslide"
    }
   },
   "outputs": [
    {
     "name": "stdout",
     "output_type": "stream",
     "text": [
      "[[1. 0. 0. 0. 0.]\n",
      " [0. 1. 0. 0. 0.]\n",
      " [0. 0. 1. 0. 0.]\n",
      " [0. 0. 0. 1. 0.]\n",
      " [0. 0. 0. 0. 1.]]\n",
      "\n",
      "b[0][0] = 1.0\n",
      "b[0, 0] = 1.0\n",
      "b[0, :] = [1. 0. 0. 0. 0.]\n",
      "b[:, -1] = [0. 0. 0. 0. 1.]\n"
     ]
    }
   ],
   "source": [
    "print(b)\n",
    "print('')\n",
    "\n",
    "print('b[0][0] =', b[0][0])\n",
    "\n",
    "print('b[0, 0] =', b[0, 0])\n",
    "\n",
    "print('b[0, :] =', b[0, :])\n",
    "\n",
    "print('b[:, -1] =', b[:, -1])"
   ]
  },
  {
   "cell_type": "markdown",
   "id": "2a112e13",
   "metadata": {
    "slideshow": {
     "slide_type": "subslide"
    }
   },
   "source": [
    "- Concatenação de arrays:"
   ]
  },
  {
   "cell_type": "code",
   "execution_count": 15,
   "id": "5f739360",
   "metadata": {
    "slideshow": {
     "slide_type": "-"
    }
   },
   "outputs": [
    {
     "name": "stdout",
     "output_type": "stream",
     "text": [
      "Concatenação: [1 2 3 4 5 6]\n"
     ]
    },
    {
     "data": {
      "text/plain": [
       "(<function numpy.hstack(tup)>,\n",
       " <function numpy.stack(arrays, axis=0, out=None)>)"
      ]
     },
     "execution_count": 15,
     "metadata": {},
     "output_type": "execute_result"
    }
   ],
   "source": [
    "print('Concatenação:', np.concatenate([np.arange(1, 4), [4, 5, 6]]))\n",
    "\n",
    "np.hstack, np.stack"
   ]
  },
  {
   "cell_type": "code",
   "execution_count": 16,
   "id": "63dfe3bd",
   "metadata": {
    "slideshow": {
     "slide_type": "subslide"
    }
   },
   "outputs": [],
   "source": [
    "np.concatenate?"
   ]
  },
  {
   "cell_type": "markdown",
   "id": "13a2e1e3",
   "metadata": {
    "slideshow": {
     "slide_type": "subslide"
    }
   },
   "source": [
    "- Separação de arrays"
   ]
  },
  {
   "cell_type": "code",
   "execution_count": 17,
   "id": "b1594372",
   "metadata": {
    "slideshow": {
     "slide_type": "-"
    }
   },
   "outputs": [
    {
     "data": {
      "text/plain": [
       "[array([ 0, 11, -1]), array([-2, -3]), array([5, 6, 7, 8, 9])]"
      ]
     },
     "execution_count": 17,
     "metadata": {},
     "output_type": "execute_result"
    }
   ],
   "source": [
    "np.split(a, [3, 5])"
   ]
  },
  {
   "cell_type": "code",
   "execution_count": 18,
   "id": "480de144",
   "metadata": {
    "slideshow": {
     "slide_type": "fragment"
    }
   },
   "outputs": [
    {
     "name": "stdout",
     "output_type": "stream",
     "text": [
      "x = [ 0 11 -1]\n",
      "y = [-2 -3]\n",
      "z = [5 6 7 8 9]\n"
     ]
    }
   ],
   "source": [
    "x, y, z = np.split(a, [3, 5])\n",
    "\n",
    "print('x =', x)\n",
    "print('y =', y)\n",
    "print('z =', z)"
   ]
  },
  {
   "cell_type": "markdown",
   "id": "10334591",
   "metadata": {
    "slideshow": {
     "slide_type": "subslide"
    }
   },
   "source": [
    "### 2.2 Computação prática"
   ]
  },
  {
   "cell_type": "markdown",
   "id": "a887e595",
   "metadata": {
    "slideshow": {
     "slide_type": "-"
    }
   },
   "source": [
    "- Funções universais:"
   ]
  },
  {
   "cell_type": "code",
   "execution_count": 19,
   "id": "2d2b96bb",
   "metadata": {
    "slideshow": {
     "slide_type": "-"
    }
   },
   "outputs": [
    {
     "data": {
      "text/plain": [
       "array([0.        , 1.        , 1.41421356, 1.73205081, 2.        ,\n",
       "       2.23606798, 2.44948974, 2.64575131, 2.82842712, 3.        ])"
      ]
     },
     "execution_count": 19,
     "metadata": {},
     "output_type": "execute_result"
    }
   ],
   "source": [
    "def sqrt(a):\n",
    "    b = np.empty(a.size)\n",
    "    for i in range(a.size):\n",
    "        b[i] = a[i] ** (1/2)\n",
    "        \n",
    "    return b\n",
    "\n",
    "sqrt(np.arange(10))"
   ]
  },
  {
   "cell_type": "markdown",
   "id": "0208bd0b",
   "metadata": {
    "slideshow": {
     "slide_type": "subslide"
    }
   },
   "source": [
    "- Notação científica:"
   ]
  },
  {
   "cell_type": "code",
   "execution_count": 20,
   "id": "f6f595c5",
   "metadata": {
    "slideshow": {
     "slide_type": "-"
    }
   },
   "outputs": [
    {
     "name": "stdout",
     "output_type": "stream",
     "text": [
      "Array de floats: [0. 0. 0. ... 0. 0. 0.]\n"
     ]
    }
   ],
   "source": [
    "print('Array de floats:', np.zeros(int(1.5e6)))"
   ]
  },
  {
   "cell_type": "markdown",
   "id": "e80dc3fb",
   "metadata": {
    "slideshow": {
     "slide_type": "subslide"
    }
   },
   "source": [
    "- Tempo de execução:"
   ]
  },
  {
   "cell_type": "code",
   "execution_count": 21,
   "id": "ddb964a6",
   "metadata": {
    "slideshow": {
     "slide_type": "-"
    }
   },
   "outputs": [
    {
     "data": {
      "text/plain": [
       "array([     0,      1,      2, ..., 999997, 999998, 999999])"
      ]
     },
     "execution_count": 21,
     "metadata": {},
     "output_type": "execute_result"
    }
   ],
   "source": [
    "Big_array = np.arange(1_000_000)\n",
    "Big_array"
   ]
  },
  {
   "cell_type": "code",
   "execution_count": 22,
   "id": "a8ef6545",
   "metadata": {
    "slideshow": {
     "slide_type": "subslide"
    }
   },
   "outputs": [
    {
     "name": "stdout",
     "output_type": "stream",
     "text": [
      "2.88 s ± 6.88 ms per loop (mean ± std. dev. of 7 runs, 1 loop each)\n"
     ]
    }
   ],
   "source": [
    "%timeit sqrt(Big_array)"
   ]
  },
  {
   "cell_type": "code",
   "execution_count": 23,
   "id": "846e4b7f",
   "metadata": {
    "slideshow": {
     "slide_type": "fragment"
    }
   },
   "outputs": [
    {
     "name": "stdout",
     "output_type": "stream",
     "text": [
      "50 ms ± 628 µs per loop (mean ± std. dev. of 7 runs, 10 loops each)\n"
     ]
    }
   ],
   "source": [
    "%timeit Big_array ** (1/2)"
   ]
  },
  {
   "cell_type": "code",
   "execution_count": 24,
   "id": "ded38a22",
   "metadata": {
    "slideshow": {
     "slide_type": "fragment"
    }
   },
   "outputs": [
    {
     "name": "stdout",
     "output_type": "stream",
     "text": [
      "4.79 ms ± 544 µs per loop (mean ± std. dev. of 7 runs, 100 loops each)\n"
     ]
    }
   ],
   "source": [
    "%timeit np.sqrt(Big_array)"
   ]
  },
  {
   "cell_type": "markdown",
   "id": "6e4ee6ef",
   "metadata": {
    "slideshow": {
     "slide_type": "subslide"
    }
   },
   "source": [
    "- Arrays de números aleatórios:"
   ]
  },
  {
   "cell_type": "code",
   "execution_count": 25,
   "id": "4e06964d",
   "metadata": {
    "slideshow": {
     "slide_type": "-"
    }
   },
   "outputs": [
    {
     "data": {
      "text/plain": [
       "array([0, 7, 6, 4, 4], dtype=int64)"
      ]
     },
     "execution_count": 25,
     "metadata": {},
     "output_type": "execute_result"
    }
   ],
   "source": [
    "rng = np.random.default_rng(42)\n",
    "rng.integers(0, 10, 5)"
   ]
  },
  {
   "cell_type": "markdown",
   "id": "38f569cc",
   "metadata": {
    "slideshow": {
     "slide_type": "subslide"
    }
   },
   "source": [
    "**Distribuição Normal**\n",
    "\n",
    "$$p(x) = \\frac{1}{\\sqrt{ 2 \\pi \\sigma^2 }}\\cdot \\exp{\\Bigg[{ - \\frac{ (x - \\mu)^2 } {2 \\sigma^2} }\\Bigg]}$$\n",
    "\n",
    "**Distribuição Gamma**\n",
    "\n",
    "$$p(x) = x^{k-1}\\cdot\\frac{e^{-x/\\theta}}{\\theta^k\\Gamma(k)}$$\n",
    "\n",
    "**Distribuição de Poisson**\n",
    "\n",
    "$$f(k; \\lambda)=\\frac{\\lambda^k e^{-\\lambda}}{k!}$$"
   ]
  },
  {
   "cell_type": "code",
   "execution_count": 26,
   "id": "50ea9a53",
   "metadata": {
    "slideshow": {
     "slide_type": "subslide"
    }
   },
   "outputs": [
    {
     "name": "stdout",
     "output_type": "stream",
     "text": [
      "Normal: [ 3.35141179 -3.87758797 -2.25544877  1.31960101  0.20939352  0.95799711\n",
      " -1.13260982  3.19849494  2.94447984  1.16507674]\n",
      "\n",
      "Gamma: [ 2.2053005   7.02003828  0.87650755  0.52199042  1.79652145  5.13683587\n",
      "  2.35401638  7.11009991  1.27438532 10.47643051]\n",
      "\n",
      "Poisson: [ 8  3 13 20 10  8 11 13  9 14]\n"
     ]
    }
   ],
   "source": [
    "print('Normal:', rng.normal(1, 2.5, 10))\n",
    "\n",
    "print('')\n",
    "\n",
    "print('Gamma:', rng.gamma(1, 5.7, 10))\n",
    "\n",
    "print('')\n",
    "\n",
    "print('Poisson:', rng.poisson(11.11, 10))"
   ]
  },
  {
   "cell_type": "code",
   "execution_count": 27,
   "id": "5111936e",
   "metadata": {
    "slideshow": {
     "slide_type": "subslide"
    }
   },
   "outputs": [
    {
     "name": "stdout",
     "output_type": "stream",
     "text": [
      "a + b = [0.8570693  0.8222925  0.25428256 0.86831116 0.47845848 1.35216048\n",
      " 1.42984971 1.3398837  1.33430843 1.01812294]\n"
     ]
    }
   ],
   "source": [
    "a = rng.random(10)\n",
    "b = rng.random(10)\n",
    "\n",
    "print('a + b =', np.add(a, b))"
   ]
  },
  {
   "cell_type": "markdown",
   "id": "3e4a9f23",
   "metadata": {
    "slideshow": {
     "slide_type": "subslide"
    }
   },
   "source": [
    "- Operações boolenas:"
   ]
  },
  {
   "cell_type": "code",
   "execution_count": 28,
   "id": "397d7f39",
   "metadata": {
    "slideshow": {
     "slide_type": "-"
    }
   },
   "outputs": [
    {
     "name": "stdout",
     "output_type": "stream",
     "text": [
      "c = [0 1 2]\n",
      "np.any(c) = True\n",
      "np.all(c) = False\n"
     ]
    }
   ],
   "source": [
    "c = np.arange(3)\n",
    "print('c =', c)\n",
    "\n",
    "print('np.any(c) =', np.any(c))\n",
    "\n",
    "print('np.all(c) =', np.all(c))"
   ]
  },
  {
   "cell_type": "markdown",
   "id": "f2fb4d1f",
   "metadata": {
    "slideshow": {
     "slide_type": "subslide"
    }
   },
   "source": [
    "- Estatística:"
   ]
  },
  {
   "cell_type": "code",
   "execution_count": 29,
   "id": "c8440ba6",
   "metadata": {
    "slideshow": {
     "slide_type": "-"
    }
   },
   "outputs": [
    {
     "name": "stdout",
     "output_type": "stream",
     "text": [
      "Média = 0.47144319830214576\n",
      "\n",
      "Mediana = 0.561883316065186\n",
      "\n",
      "Desvio Padrão = 0.20275515967788155\n",
      "\n",
      "Variância = 0.04110965477600324\n"
     ]
    }
   ],
   "source": [
    "print('Média =', np.mean(a)) \n",
    "print('')\n",
    "\n",
    "print('Mediana =', np.median(a))\n",
    "print('')\n",
    "\n",
    "print('Desvio Padrão =', np.std(b))\n",
    "print('')\n",
    "\n",
    "print('Variância =', np.var(b))"
   ]
  },
  {
   "cell_type": "markdown",
   "id": "3cb58a39",
   "metadata": {
    "slideshow": {
     "slide_type": "subslide"
    }
   },
   "source": [
    "- Soma de linhas e colunas de uma matriz:"
   ]
  },
  {
   "cell_type": "code",
   "execution_count": 30,
   "id": "1fafaf13",
   "metadata": {
    "slideshow": {
     "slide_type": "-"
    }
   },
   "outputs": [
    {
     "name": "stdout",
     "output_type": "stream",
     "text": [
      "[[ 0.          1.        ]\n",
      " [-2.          0.5       ]\n",
      " [ 3.14159265  2.71828183]]\n",
      "\n",
      "sum(d, axis = 0) = [1.14159265 4.21828183]\n",
      "\n",
      "sum(d, axis = 1) = [ 1.         -1.5         5.85987448]\n",
      "\n",
      "max(d, axis = 1) = [1.         0.5        3.14159265]\n"
     ]
    }
   ],
   "source": [
    "d = np.array([[0, 1], [-2, 0.5], [np.pi, np.e]])\n",
    "print(d)\n",
    "print('')\n",
    "\n",
    "print('sum(d, axis = 0) =', np.sum(d, axis = 0))\n",
    "print('')\n",
    "\n",
    "print('sum(d, axis = 1) =', np.sum(d, axis = 1))\n",
    "print('')\n",
    "\n",
    "print('max(d, axis = 1) =', np.max(d, axis = 1))"
   ]
  },
  {
   "cell_type": "markdown",
   "id": "33d85610",
   "metadata": {
    "slideshow": {
     "slide_type": "subslide"
    }
   },
   "source": [
    "- Funções matemáticas em arrays:"
   ]
  },
  {
   "cell_type": "code",
   "execution_count": 31,
   "id": "25b6f74d",
   "metadata": {
    "slideshow": {
     "slide_type": "-"
    }
   },
   "outputs": [
    {
     "name": "stdout",
     "output_type": "stream",
     "text": [
      "a = [0.2883281  0.6824955  0.13975248 0.1999082  0.00736227 0.78692438\n",
      " 0.66485086 0.70516538 0.78072903 0.45891578]\n",
      "\n",
      "sin(a) = [0.28434974 0.6307315  0.13929802 0.19857936 0.0073622  0.70818515\n",
      " 0.61694176 0.64815977 0.70379751 0.44297632]\n",
      "\n",
      "log10(a) = [-0.54011302 -0.16590021 -0.85464047 -0.69916939 -2.13298827 -0.104067\n",
      " -0.17727577 -0.15170902 -0.10749967 -0.33826701]\n",
      "\n",
      "ln(a) = [-1.2436562  -0.38199934 -1.9678824  -1.60989701 -4.911387   -0.23962312\n",
      " -0.40819254 -0.34932292 -0.24752714 -0.77888858]\n",
      "\n",
      "exp(a) = [1.33419499 1.9788097  1.14998912 1.22129064 1.00738944 2.19663002\n",
      " 1.94420054 2.02418141 2.18306321 1.58235742]\n"
     ]
    }
   ],
   "source": [
    "print('a =', a)\n",
    "\n",
    "print('\\nsin(a) =', np.sin(a))\n",
    "\n",
    "print('\\nlog10(a) =', np.log10(a))\n",
    "\n",
    "print('\\nln(a) =', np.log(a))\n",
    "\n",
    "print('\\nexp(a) =', np.exp(a))"
   ]
  },
  {
   "cell_type": "markdown",
   "id": "0e9babe2",
   "metadata": {
    "slideshow": {
     "slide_type": "subslide"
    }
   },
   "source": [
    "- Mensagens de erros:"
   ]
  },
  {
   "cell_type": "code",
   "execution_count": 32,
   "id": "c58ce594",
   "metadata": {
    "slideshow": {
     "slide_type": "-"
    }
   },
   "outputs": [
    {
     "name": "stderr",
     "output_type": "stream",
     "text": [
      "C:\\Users\\Gabriel Wendell\\AppData\\Local\\Temp\\ipykernel_13212\\2173637614.py:1: RuntimeWarning: invalid value encountered in arccos\n",
      "  np.arccos(2)\n"
     ]
    },
    {
     "data": {
      "text/plain": [
       "nan"
      ]
     },
     "execution_count": 32,
     "metadata": {},
     "output_type": "execute_result"
    }
   ],
   "source": [
    "np.arccos(2)"
   ]
  },
  {
   "cell_type": "code",
   "execution_count": 33,
   "id": "455c7e5a",
   "metadata": {
    "slideshow": {
     "slide_type": "fragment"
    }
   },
   "outputs": [
    {
     "name": "stderr",
     "output_type": "stream",
     "text": [
      "C:\\Users\\Gabriel Wendell\\AppData\\Local\\Temp\\ipykernel_13212\\4242892561.py:1: RuntimeWarning: divide by zero encountered in true_divide\n",
      "  1/np.arange(10)\n"
     ]
    },
    {
     "data": {
      "text/plain": [
       "array([       inf, 1.        , 0.5       , 0.33333333, 0.25      ,\n",
       "       0.2       , 0.16666667, 0.14285714, 0.125     , 0.11111111])"
      ]
     },
     "execution_count": 33,
     "metadata": {},
     "output_type": "execute_result"
    }
   ],
   "source": [
    "1/np.arange(10)"
   ]
  },
  {
   "cell_type": "code",
   "execution_count": 34,
   "id": "f876cefc",
   "metadata": {
    "slideshow": {
     "slide_type": "fragment"
    }
   },
   "outputs": [
    {
     "name": "stderr",
     "output_type": "stream",
     "text": [
      "C:\\Users\\Gabriel Wendell\\AppData\\Local\\Temp\\ipykernel_13212\\593241902.py:1: RuntimeWarning: divide by zero encountered in true_divide\n",
      "  -1/np.arange(10)\n"
     ]
    },
    {
     "data": {
      "text/plain": [
       "array([       -inf, -1.        , -0.5       , -0.33333333, -0.25      ,\n",
       "       -0.2       , -0.16666667, -0.14285714, -0.125     , -0.11111111])"
      ]
     },
     "execution_count": 34,
     "metadata": {},
     "output_type": "execute_result"
    }
   ],
   "source": [
    "-1/np.arange(10)"
   ]
  },
  {
   "cell_type": "markdown",
   "id": "7a43322e",
   "metadata": {
    "slideshow": {
     "slide_type": "subslide"
    }
   },
   "source": [
    "- Relações de equivalência:"
   ]
  },
  {
   "cell_type": "code",
   "execution_count": 35,
   "id": "acc62085",
   "metadata": {
    "slideshow": {
     "slide_type": "-"
    }
   },
   "outputs": [
    {
     "data": {
      "text/plain": [
       "array([False,  True,  True, False, False,  True, False,  True,  True,\n",
       "       False])"
      ]
     },
     "execution_count": 35,
     "metadata": {},
     "output_type": "execute_result"
    }
   ],
   "source": [
    "np.greater(a, b)"
   ]
  },
  {
   "cell_type": "code",
   "execution_count": 36,
   "id": "3db34b2e",
   "metadata": {
    "slideshow": {
     "slide_type": "fragment"
    }
   },
   "outputs": [
    {
     "data": {
      "text/plain": [
       "array([False,  True,  True, False, False,  True, False,  True,  True,\n",
       "       False])"
      ]
     },
     "execution_count": 36,
     "metadata": {},
     "output_type": "execute_result"
    }
   ],
   "source": [
    "a > b"
   ]
  },
  {
   "cell_type": "markdown",
   "id": "ee61895a",
   "metadata": {
    "slideshow": {
     "slide_type": "subslide"
    }
   },
   "source": [
    "### 2.3 Máscaras e *fancy indexing*"
   ]
  },
  {
   "cell_type": "code",
   "execution_count": 37,
   "id": "3f851c99",
   "metadata": {
    "slideshow": {
     "slide_type": "-"
    }
   },
   "outputs": [
    {
     "name": "stdout",
     "output_type": "stream",
     "text": [
      "a = [0.2883281  0.6824955  0.13975248 0.1999082  0.00736227 0.78692438\n",
      " 0.66485086 0.70516538 0.78072903 0.45891578]\n",
      "\n",
      "a[0] = 0.2883281039302441 \n",
      "a[2] = 0.1397524836093098 \n",
      "a[4] = 0.007362269751005512 \n",
      "a[6] = 0.6648508565920321 \n",
      "a[8] = 0.7807290310219679\n"
     ]
    }
   ],
   "source": [
    "print('a =', a)\n",
    "\n",
    "print('\\na[0] =', a[0], '\\na[2] =', a[2], '\\na[4] =', a[4], '\\na[6] =', a[6], '\\na[8] =', a[8])"
   ]
  },
  {
   "cell_type": "code",
   "execution_count": 38,
   "id": "1d75b0c3",
   "metadata": {
    "slideshow": {
     "slide_type": "fragment"
    }
   },
   "outputs": [
    {
     "name": "stdout",
     "output_type": "stream",
     "text": [
      "a[::2] = [0.2883281  0.13975248 0.00736227 0.66485086 0.78072903]\n",
      "\n",
      "a[1::2] [0.6824955  0.1999082  0.78692438 0.70516538 0.45891578]\n"
     ]
    }
   ],
   "source": [
    "print('a[::2] =', a[::2])\n",
    "\n",
    "print('\\na[1::2]', a[1::2])"
   ]
  },
  {
   "cell_type": "code",
   "execution_count": 39,
   "id": "0bbb60de",
   "metadata": {
    "slideshow": {
     "slide_type": "subslide"
    }
   },
   "outputs": [
    {
     "name": "stdout",
     "output_type": "stream",
     "text": [
      "x = [ 0.79334724 -0.34872507 -0.46235179  0.85797588 -0.19130432 -1.27568632\n",
      " -1.13328721 -0.91945229  0.49716074  0.14242574  0.69048535 -0.42725265\n",
      "  0.15853969  0.62559039 -0.30934654  0.45677524 -0.66192594 -0.36305385\n",
      " -0.38173789 -1.19583965]\n"
     ]
    },
    {
     "data": {
      "text/plain": [
       "array([ True, False, False,  True, False, False, False, False,  True,\n",
       "        True,  True, False,  True,  True, False,  True, False, False,\n",
       "       False, False])"
      ]
     },
     "execution_count": 39,
     "metadata": {},
     "output_type": "execute_result"
    }
   ],
   "source": [
    "x = rng.normal(0, 1, 20)\n",
    "print('x =', x)\n",
    "\n",
    "x > 0"
   ]
  },
  {
   "cell_type": "code",
   "execution_count": 40,
   "id": "1e09bb9c",
   "metadata": {
    "slideshow": {
     "slide_type": "fragment"
    }
   },
   "outputs": [
    {
     "name": "stdout",
     "output_type": "stream",
     "text": [
      "mask = [ True False False  True False False False False  True  True  True False\n",
      "  True  True False  True False False False False]\n",
      "\n",
      "x[mask] = [0.79334724 0.85797588 0.49716074 0.14242574 0.69048535 0.15853969\n",
      " 0.62559039 0.45677524]\n",
      "\n",
      "x[[0, 2, 4, 6, 8]] = [ 0.79334724 -0.46235179 -0.19130432 -1.13328721  0.49716074]\n"
     ]
    }
   ],
   "source": [
    "mask = x > 0\n",
    "print('mask =', mask)\n",
    "\n",
    "print('\\nx[mask] =', x[mask])\n",
    "\n",
    "print('\\nx[[0, 2, 4, 6, 8]] =', x[[0, 2, 4, 6, 8]])"
   ]
  },
  {
   "cell_type": "markdown",
   "id": "81ebfebb",
   "metadata": {
    "slideshow": {
     "slide_type": "-"
    }
   },
   "source": [
    "---"
   ]
  },
  {
   "cell_type": "markdown",
   "id": "d958ea42",
   "metadata": {
    "slideshow": {
     "slide_type": "subslide"
    }
   },
   "source": [
    "**BÔNUS**"
   ]
  },
  {
   "cell_type": "code",
   "execution_count": 41,
   "id": "6662cf37",
   "metadata": {
    "slideshow": {
     "slide_type": "-"
    }
   },
   "outputs": [
    {
     "name": "stdout",
     "output_type": "stream",
     "text": [
      "Not import\n"
     ]
    }
   ],
   "source": [
    "try:\n",
    "    import numpy as np\n",
    "    import Blah\n",
    "\n",
    "except:\n",
    "    print('Not import')"
   ]
  },
  {
   "cell_type": "markdown",
   "id": "eeee4037",
   "metadata": {
    "slideshow": {
     "slide_type": "-"
    }
   },
   "source": [
    "---"
   ]
  }
 ],
 "metadata": {
  "celltoolbar": "Slideshow",
  "kernelspec": {
   "display_name": "Python 3 (ipykernel)",
   "language": "python",
   "name": "python3"
  },
  "language_info": {
   "codemirror_mode": {
    "name": "ipython",
    "version": 3
   },
   "file_extension": ".py",
   "mimetype": "text/x-python",
   "name": "python",
   "nbconvert_exporter": "python",
   "pygments_lexer": "ipython3",
   "version": "3.9.8"
  }
 },
 "nbformat": 4,
 "nbformat_minor": 5
}
